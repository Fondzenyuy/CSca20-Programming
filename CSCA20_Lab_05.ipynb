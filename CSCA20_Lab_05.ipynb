{
  "nbformat": 4,
  "nbformat_minor": 0,
  "metadata": {
    "kernelspec": {
      "display_name": "Python 3",
      "language": "python",
      "name": "python3"
    },
    "language_info": {
      "codemirror_mode": {
        "name": "ipython",
        "version": 3
      },
      "file_extension": ".py",
      "mimetype": "text/x-python",
      "name": "python",
      "nbconvert_exporter": "python",
      "pygments_lexer": "ipython3",
      "version": "3.8.5"
    },
    "colab": {
      "name": "CSCA20_Lab_05.ipynb",
      "provenance": [],
      "include_colab_link": true
    }
  },
  "cells": [
    {
      "cell_type": "markdown",
      "metadata": {
        "id": "view-in-github",
        "colab_type": "text"
      },
      "source": [
        "<a href=\"https://colab.research.google.com/github/Fondzenyuy/CSca20-Programming/blob/main/CSCA20_Lab_05.ipynb\" target=\"_parent\"><img src=\"https://colab.research.google.com/assets/colab-badge.svg\" alt=\"Open In Colab\"/></a>"
      ]
    },
    {
      "cell_type": "code",
      "metadata": {
        "id": "DCBCL5pZJxTe"
      },
      "source": [
        "import operator\n",
        "\n",
        "name_to_wins = {}\n",
        "\n",
        "def add_player(name,name_to_wins):\n",
        "  if (player in name_to_wins):\n",
        "    print('Player already exists')\n",
        "  else:\n",
        "    name_to_wins[name] = 0 \n",
        "\n",
        "\n",
        "def add_win(name,name_to_wins):\n",
        "  if name in name_to_wins:\n",
        "    name_to_wins[name] += 1\n",
        "  else:\n",
        "    name_to_wins[name] += 0\n",
        "\n",
        "name = name_to_wins.keys()\n",
        "def find_winner(name,name_to_wins):\n",
        "    max_value = max(dic.values())  # maximum value\n",
        "    max_keys = [k for k, v in name_to_wins.items() if v == max_value] # getting all keys containing the `maximum`\n",
        "    if (len(max_keys)>1):\n",
        "        print(\"TIE\")\n",
        "    else:  \n",
        "        print(\"Winner is \" + max_keys[0])\n",
        "        \n"
      ],
      "execution_count": null,
      "outputs": []
    },
    {
      "cell_type": "code",
      "metadata": {
        "id": "8BVA5HmZJxTj"
      },
      "source": [
        ""
      ],
      "execution_count": null,
      "outputs": []
    },
    {
      "cell_type": "code",
      "metadata": {
        "id": "AtwHtCenJxTk"
      },
      "source": [
        ""
      ],
      "execution_count": null,
      "outputs": []
    },
    {
      "cell_type": "code",
      "metadata": {
        "id": "w3YdqiORJxTm"
      },
      "source": [
        "\n",
        "   "
      ],
      "execution_count": null,
      "outputs": []
    }
  ]
}