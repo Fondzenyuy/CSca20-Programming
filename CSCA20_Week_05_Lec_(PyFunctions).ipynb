{
  "nbformat": 4,
  "nbformat_minor": 0,
  "metadata": {
    "colab": {
      "name": "CSCA20_Week_05_Lec (PyFunctions).ipynb",
      "provenance": [],
      "collapsed_sections": [],
      "authorship_tag": "ABX9TyNmGtOSJqYQBNKJcprItAeP",
      "include_colab_link": true
    },
    "kernelspec": {
      "name": "python3",
      "display_name": "Python 3"
    },
    "language_info": {
      "name": "python"
    }
  },
  "cells": [
    {
      "cell_type": "markdown",
      "metadata": {
        "id": "view-in-github",
        "colab_type": "text"
      },
      "source": [
        "<a href=\"https://colab.research.google.com/github/Fondzenyuy/CSca20-Programming/blob/main/CSCA20_Week_05_Lec_(PyFunctions).ipynb\" target=\"_parent\"><img src=\"https://colab.research.google.com/assets/colab-badge.svg\" alt=\"Open In Colab\"/></a>"
      ]
    },
    {
      "cell_type": "code",
      "metadata": {
        "colab": {
          "base_uri": "https://localhost:8080/"
        },
        "id": "lfTDzHro-oru",
        "outputId": "975da5da-f6c0-458b-a5ec-1f9d35805017"
      },
      "source": [
        "classlist = ['Anush', 'Beinan', 'Carol', 'Dan']\n",
        "gradelist = []\n",
        "for name in classlist:\n",
        "  print('Enter -1 for no grade.')\n",
        "  grade = int(input('Please enter grade for' + name + ':'))\n",
        "  gradelist.append(grade)\n",
        "\n",
        "\n",
        "#compute average grade\n",
        "count = 0      #number of all valid grades\n",
        "total = 0      #sum of all valid grades\n",
        "\n",
        "for grade in gradelist:\n",
        "  if 0 <= grade <= 100 :\n",
        "    count = count + 1\n",
        "    total = total + grade\n",
        "if count > 0:\n",
        "  average_grade = total / count\n",
        "else:\n",
        "  average_grade = -1\n",
        "\n",
        "#compute minimum grade\n",
        "\n",
        "  min_grade = -1\n",
        "  for grade in gradelist:\n",
        "    if min_grade == -1:\n",
        "      if 0 <= grade <= 100:\n",
        "        if min_grade == -1 or grade < min_grade:\n",
        "         min_grade = grade \n",
        "  \n",
        "\n",
        "\n",
        "#compute maximum grade\n",
        "max_grade = -1\n",
        "for grade in gradelist:\n",
        "  if 0 <= grade <= 100:\n",
        "    if max_grade == -1 or grade> max_grade:\n",
        "      max_grade = grade\n",
        "\n",
        "print('The average grade is ' + str(average_grade))\n",
        "print('The minimum grade is ' + str(min_grade))\n",
        "print('The maximum grade is ' + str(max_grade))\n",
        "\n",
        "\n"
      ],
      "execution_count": 15,
      "outputs": [
        {
          "output_type": "stream",
          "name": "stdout",
          "text": [
            "Enter -1 for no grade.\n",
            "Please enter grade forAnush:40\n",
            "Enter -1 for no grade.\n",
            "Please enter grade forBeinan:0\n",
            "Enter -1 for no grade.\n",
            "Please enter grade forCarol:0\n",
            "Enter -1 for no grade.\n",
            "Please enter grade forDan:40\n",
            "The average grade is 20.0\n",
            "The minimum grade is 30\n",
            "The maximum grade is 40\n"
          ]
        }
      ]
    },
    {
      "cell_type": "code",
      "metadata": {
        "id": "KX-sVvPu-2_X"
      },
      "source": [
        "def get_average_grade(gradelist):\n",
        "  \"\"\"\n",
        "  Input : gradelist is a list of grades (integers). \n",
        "          -1 stands for an invalid grade.\n",
        "  Return the average of the valid grades in the gradelist.\n",
        "  Return -1 if there are no valid grades.\n",
        "\n",
        "  \"\"\"\n",
        "\n",
        "  #compute average grade\n",
        "  count = 0      #number of all valid grades\n",
        "  total = 0      #sum of all valid grades\n",
        "\n",
        "  for grade in gradelist:\n",
        "    if 0 <= grade <= 100 :\n",
        "      count = count + 1\n",
        "      total = total + grade\n",
        "  if count > 0:\n",
        "    average_grade = total / count\n",
        "  else:\n",
        "    average_grade = -1\n",
        "\n",
        "  return(average_grade)\n"
      ],
      "execution_count": 24,
      "outputs": []
    },
    {
      "cell_type": "code",
      "metadata": {
        "colab": {
          "base_uri": "https://localhost:8080/"
        },
        "id": "dTob6tgQTYiO",
        "outputId": "a8127d86-8c68-4c83-f4d8-f995d4228f88"
      },
      "source": [
        "help(get_average_grade)"
      ],
      "execution_count": 25,
      "outputs": [
        {
          "output_type": "stream",
          "name": "stdout",
          "text": [
            "Help on function get_average_grade in module __main__:\n",
            "\n",
            "get_average_grade(gradelist)\n",
            "    Input : gradelist is a list of grades (integers). \n",
            "            -1 stands for an invalid grade.\n",
            "    Return the average of the valid grades in the gradelist.\n",
            "    Return -1 if there are no valid grades.\n",
            "\n"
          ]
        }
      ]
    },
    {
      "cell_type": "code",
      "metadata": {
        "colab": {
          "base_uri": "https://localhost:8080/"
        },
        "id": "dFPqUbCU-3De",
        "outputId": "67b302c4-5005-46a6-f0fa-b7cd3ee5d821"
      },
      "source": [
        "get_average_grade(gradelist)"
      ],
      "execution_count": 26,
      "outputs": [
        {
          "output_type": "execute_result",
          "data": {
            "text/plain": [
              "20.0"
            ]
          },
          "metadata": {},
          "execution_count": 26
        }
      ]
    },
    {
      "cell_type": "code",
      "metadata": {
        "id": "d6gt0QgxTha2"
      },
      "source": [
        ""
      ],
      "execution_count": null,
      "outputs": []
    },
    {
      "cell_type": "markdown",
      "metadata": {
        "id": "QmBg80_CTjMX"
      },
      "source": [
        "# Alternatively : Using Numpy"
      ]
    },
    {
      "cell_type": "code",
      "metadata": {
        "colab": {
          "base_uri": "https://localhost:8080/"
        },
        "id": "Cl7dA1AR-3HB",
        "outputId": "e7ec70aa-f615-4c89-8f7c-b739bc906bfe"
      },
      "source": [
        "import numpy as np\n",
        "\n",
        "gradelist"
      ],
      "execution_count": 19,
      "outputs": [
        {
          "output_type": "execute_result",
          "data": {
            "text/plain": [
              "[40, 0, 0, 40]"
            ]
          },
          "metadata": {},
          "execution_count": 19
        }
      ]
    },
    {
      "cell_type": "code",
      "metadata": {
        "colab": {
          "base_uri": "https://localhost:8080/"
        },
        "id": "TqBtbaCn-3K3",
        "outputId": "1e7d41c2-14f7-4ac9-a4f9-ba4827fa03ef"
      },
      "source": [
        "np.max(gradelist)"
      ],
      "execution_count": 20,
      "outputs": [
        {
          "output_type": "execute_result",
          "data": {
            "text/plain": [
              "40"
            ]
          },
          "metadata": {},
          "execution_count": 20
        }
      ]
    },
    {
      "cell_type": "code",
      "metadata": {
        "colab": {
          "base_uri": "https://localhost:8080/"
        },
        "id": "C6KS73_4-3PR",
        "outputId": "d9fd541e-9301-4a0b-e0ab-d8f5c3b5cc04"
      },
      "source": [
        "np.min(gradelist)"
      ],
      "execution_count": 21,
      "outputs": [
        {
          "output_type": "execute_result",
          "data": {
            "text/plain": [
              "0"
            ]
          },
          "metadata": {},
          "execution_count": 21
        }
      ]
    },
    {
      "cell_type": "code",
      "metadata": {
        "colab": {
          "base_uri": "https://localhost:8080/"
        },
        "id": "5y98eUs5PDAm",
        "outputId": "6ca367ca-3b62-463d-9a5d-e8464f8d2a9c"
      },
      "source": [
        "np.mean(gradelist)"
      ],
      "execution_count": 22,
      "outputs": [
        {
          "output_type": "execute_result",
          "data": {
            "text/plain": [
              "20.0"
            ]
          },
          "metadata": {},
          "execution_count": 22
        }
      ]
    },
    {
      "cell_type": "code",
      "metadata": {
        "id": "WMZs5DQ8PDE0"
      },
      "source": [
        ""
      ],
      "execution_count": null,
      "outputs": []
    },
    {
      "cell_type": "code",
      "metadata": {
        "id": "nj1kVgcfPDH6"
      },
      "source": [
        ""
      ],
      "execution_count": null,
      "outputs": []
    }
  ]
}