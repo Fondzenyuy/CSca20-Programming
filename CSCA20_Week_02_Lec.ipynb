{
  "nbformat": 4,
  "nbformat_minor": 0,
  "metadata": {
    "colab": {
      "name": "CSCA20 Week 02 Lec",
      "provenance": [],
      "collapsed_sections": [],
      "authorship_tag": "ABX9TyM/S2p5qXhgxm6zLtPVoHpj",
      "include_colab_link": true
    },
    "kernelspec": {
      "name": "python3",
      "display_name": "Python 3"
    },
    "language_info": {
      "name": "python"
    }
  },
  "cells": [
    {
      "cell_type": "markdown",
      "metadata": {
        "id": "view-in-github",
        "colab_type": "text"
      },
      "source": [
        "<a href=\"https://colab.research.google.com/github/Fondzenyuy/CSca20-Programming/blob/main/CSCA20_Week_02_Lec.ipynb\" target=\"_parent\"><img src=\"https://colab.research.google.com/assets/colab-badge.svg\" alt=\"Open In Colab\"/></a>"
      ]
    },
    {
      "cell_type": "markdown",
      "metadata": {
        "id": "Uv8hfM5L1YTf"
      },
      "source": [
        "# **LISTS**\n",
        "\n",
        "*You have not watched the prelecture video, please go back and watch it*"
      ]
    },
    {
      "cell_type": "code",
      "metadata": {
        "colab": {
          "base_uri": "https://localhost:8080/"
        },
        "id": "8nxuSAZi03WN",
        "outputId": "de0635a0-5b28-4eaa-b05d-e6d6fdf7a99d"
      },
      "source": [
        "x = [1,2,3]\n",
        "x\n",
        "\n"
      ],
      "execution_count": 5,
      "outputs": [
        {
          "output_type": "execute_result",
          "data": {
            "text/plain": [
              "[1, 2, 3]"
            ]
          },
          "metadata": {},
          "execution_count": 5
        }
      ]
    },
    {
      "cell_type": "code",
      "metadata": {
        "colab": {
          "base_uri": "https://localhost:8080/"
        },
        "id": "d7rjcNn91g1y",
        "outputId": "8f6c712c-7317-42c2-df02-3ca84d0ed5cc"
      },
      "source": [
        "type(x)"
      ],
      "execution_count": 6,
      "outputs": [
        {
          "output_type": "execute_result",
          "data": {
            "text/plain": [
              "list"
            ]
          },
          "metadata": {},
          "execution_count": 6
        }
      ]
    },
    {
      "cell_type": "code",
      "metadata": {
        "colab": {
          "base_uri": "https://localhost:8080/"
        },
        "id": "RFviis8i1Dwo",
        "outputId": "5496f9fc-624b-47d5-c983-bff6e0f8274d"
      },
      "source": [
        "x = [1,2,3]\n",
        "for i in range(len(x)):\n",
        "  print(x[i]) "
      ],
      "execution_count": 8,
      "outputs": [
        {
          "output_type": "stream",
          "name": "stdout",
          "text": [
            "1\n",
            "2\n",
            "3\n"
          ]
        }
      ]
    },
    {
      "cell_type": "code",
      "metadata": {
        "colab": {
          "base_uri": "https://localhost:8080/"
        },
        "id": "DgAAdN-I1D3_",
        "outputId": "2153f94b-c0d8-4877-a62a-72a4699d5bae"
      },
      "source": [
        "len(x)"
      ],
      "execution_count": 9,
      "outputs": [
        {
          "output_type": "execute_result",
          "data": {
            "text/plain": [
              "3"
            ]
          },
          "metadata": {},
          "execution_count": 9
        }
      ]
    },
    {
      "cell_type": "code",
      "metadata": {
        "colab": {
          "base_uri": "https://localhost:8080/"
        },
        "id": "-mNvit4p1D7V",
        "outputId": "aa27f962-4ce6-41d5-edd1-85c77bac5971"
      },
      "source": [
        "print('The length of list x is ' + str(len(x))  )"
      ],
      "execution_count": 10,
      "outputs": [
        {
          "output_type": "stream",
          "name": "stdout",
          "text": [
            "The length of list x is 3\n"
          ]
        }
      ]
    },
    {
      "cell_type": "markdown",
      "metadata": {
        "id": "3psbS8ic2f0U"
      },
      "source": [
        "*Lists can contain numbers and strings*"
      ]
    },
    {
      "cell_type": "code",
      "metadata": {
        "colab": {
          "base_uri": "https://localhost:8080/"
        },
        "id": "TxQ2PYhi1D9w",
        "outputId": "2d118b14-153b-4ae1-ab36-e4c01fbef469"
      },
      "source": [
        "x = [2,4,6,8,10, 'Nick', 'Brian']\n",
        "#len(x) = 7\n",
        "for i in range(len(x)):\n",
        "  print(x[i]) "
      ],
      "execution_count": 12,
      "outputs": [
        {
          "output_type": "stream",
          "name": "stdout",
          "text": [
            "2\n",
            "4\n",
            "6\n",
            "8\n",
            "10\n",
            "Nick\n",
            "Brian\n"
          ]
        }
      ]
    },
    {
      "cell_type": "code",
      "metadata": {
        "colab": {
          "base_uri": "https://localhost:8080/"
        },
        "id": "mmouRl8f1ECN",
        "outputId": "5774a016-2055-4212-eee0-5eef2baeb3c7"
      },
      "source": [
        "print(x)"
      ],
      "execution_count": 13,
      "outputs": [
        {
          "output_type": "stream",
          "name": "stdout",
          "text": [
            "[2, 4, 6, 8, 10, 'Nick', 'Brian']\n"
          ]
        }
      ]
    },
    {
      "cell_type": "markdown",
      "metadata": {
        "id": "srXDaGI64CxC"
      },
      "source": [
        "Without using index, you can still list out members using for loop"
      ]
    },
    {
      "cell_type": "code",
      "metadata": {
        "colab": {
          "base_uri": "https://localhost:8080/"
        },
        "id": "26aouqtJ3z76",
        "outputId": "69480008-749c-48bb-9fd7-0db10e8c7367"
      },
      "source": [
        "x = [2,4,6,8,10, 'Nick', 'Brian']\n",
        "#len(x) = 7\n",
        "for item in x:\n",
        "  print(item) "
      ],
      "execution_count": 14,
      "outputs": [
        {
          "output_type": "stream",
          "name": "stdout",
          "text": [
            "2\n",
            "4\n",
            "6\n",
            "8\n",
            "10\n",
            "Nick\n",
            "Brian\n"
          ]
        }
      ]
    },
    {
      "cell_type": "markdown",
      "metadata": {
        "id": "1UJtEHak45Ib"
      },
      "source": [
        "*We can catenate a list*"
      ]
    },
    {
      "cell_type": "code",
      "metadata": {
        "colab": {
          "base_uri": "https://localhost:8080/"
        },
        "id": "aJBvwTaW3z90",
        "outputId": "9fb219a3-2755-4564-baaa-0b2e995f8d0f"
      },
      "source": [
        "x = [2,4,6]\n",
        "y = ['small', 'medium', 'large']\n",
        "print('x = ' + str(x))\n",
        "print('y = ' + str(y))\n",
        "z = x + y\n",
        "print('z = ' + str(z))"
      ],
      "execution_count": 18,
      "outputs": [
        {
          "output_type": "stream",
          "name": "stdout",
          "text": [
            "x = [2, 4, 6]\n",
            "y = ['small', 'medium', 'large']\n",
            "z = [2, 4, 6, 'small', 'medium', 'large']\n"
          ]
        }
      ]
    },
    {
      "cell_type": "code",
      "metadata": {
        "colab": {
          "base_uri": "https://localhost:8080/"
        },
        "id": "QEJegwxP30Bc",
        "outputId": "a3e08598-1f41-4343-cbca-a18b820a3a68"
      },
      "source": [
        "#you can add new members to a list\n",
        "\n",
        "x = [2,4,6]\n",
        "print(x+[8,10])"
      ],
      "execution_count": 20,
      "outputs": [
        {
          "output_type": "stream",
          "name": "stdout",
          "text": [
            "[2, 4, 6, 8, 10]\n"
          ]
        }
      ]
    },
    {
      "cell_type": "code",
      "metadata": {
        "colab": {
          "base_uri": "https://localhost:8080/"
        },
        "id": "UMEFUAfE30E6",
        "outputId": "ef8a7e6b-de9d-4192-aa50-0daf7344aae4"
      },
      "source": [
        "#alternative way of adding new members to a list\n",
        "\n",
        "x = [2,4,6]\n",
        "x.append(8) \n",
        "x"
      ],
      "execution_count": 23,
      "outputs": [
        {
          "output_type": "execute_result",
          "data": {
            "text/plain": [
              "[2, 4, 6, 8]"
            ]
          },
          "metadata": {},
          "execution_count": 23
        }
      ]
    },
    {
      "cell_type": "code",
      "metadata": {
        "colab": {
          "base_uri": "https://localhost:8080/"
        },
        "id": "4blG5yo07l5q",
        "outputId": "16848949-e98a-41e2-e118-ab280c4ece80"
      },
      "source": [
        "x.append(10)\n",
        "x"
      ],
      "execution_count": 24,
      "outputs": [
        {
          "output_type": "execute_result",
          "data": {
            "text/plain": [
              "[2, 4, 6, 8, 10]"
            ]
          },
          "metadata": {},
          "execution_count": 24
        }
      ]
    },
    {
      "cell_type": "markdown",
      "metadata": {
        "id": "kJVGQ6jp72PQ"
      },
      "source": [
        "**You can only append a list ONE ITEM AT A TIME**\n",
        "\n",
        "- append method can change the list, but the addition method can only add new members to the already existing list\n"
      ]
    },
    {
      "cell_type": "markdown",
      "metadata": {
        "id": "3MNavmPUBO83"
      },
      "source": [
        "# **PLOTTING**"
      ]
    },
    {
      "cell_type": "code",
      "metadata": {
        "colab": {
          "base_uri": "https://localhost:8080/",
          "height": 283
        },
        "id": "QqhWVfWW8cHn",
        "outputId": "3b1ea60a-c30e-402e-dc0b-cce7d427a4ab"
      },
      "source": [
        "import matplotlib.pyplot as plt\n",
        "x = [1,2,3]\n",
        "y = [3,1,4]\n",
        "\n",
        "plt.plot(x,y)"
      ],
      "execution_count": 34,
      "outputs": [
        {
          "output_type": "execute_result",
          "data": {
            "text/plain": [
              "[<matplotlib.lines.Line2D at 0x7f163ea8dbd0>]"
            ]
          },
          "metadata": {},
          "execution_count": 34
        },
        {
          "output_type": "display_data",
          "data": {
            "image/png": "[encoded data removed]",
            "text/plain": [
              "<Figure size 432x288 with 1 Axes>"
            ]
          },
          "metadata": {
            "needs_background": "light"
          }
        }
      ]
    },
    {
      "cell_type": "code",
      "metadata": {
        "colab": {
          "base_uri": "https://localhost:8080/",
          "height": 283
        },
        "id": "6TSEp1NU7mEL",
        "outputId": "fce8fd27-8857-4e93-e4ed-c06808ac241e"
      },
      "source": [
        "import matplotlib.pyplot as plt\n",
        "x = [1,2,3]\n",
        "y = [3,1,4]\n",
        "\n",
        "plt.plot(x,y, 'o-') #scatter plot other arguments for fun 'r+','o','.''"
      ],
      "execution_count": 39,
      "outputs": [
        {
          "output_type": "execute_result",
          "data": {
            "text/plain": [
              "[<matplotlib.lines.Line2D at 0x7f163f3b5850>]"
            ]
          },
          "metadata": {},
          "execution_count": 39
        },
        {
          "output_type": "display_data",
          "data": {
            "image/png": "[encoded data removed]",
            "text/plain": [
              "<Figure size 432x288 with 1 Axes>"
            ]
          },
          "metadata": {
            "needs_background": "light"
          }
        }
      ]
    },
    {
      "cell_type": "code",
      "metadata": {
        "colab": {
          "base_uri": "https://localhost:8080/",
          "height": 283
        },
        "id": "rEOwfk2j8cKE",
        "outputId": "8d357958-7e3a-4a48-fe31-c1aa2978681e"
      },
      "source": [
        "import matplotlib.pyplot as plt\n",
        "x = [1,2,3]\n",
        "y = [3,1,4]\n",
        "\n",
        "plt.plot(x,y,color = 'green')"
      ],
      "execution_count": 40,
      "outputs": [
        {
          "output_type": "execute_result",
          "data": {
            "text/plain": [
              "[<matplotlib.lines.Line2D at 0x7f163eb41550>]"
            ]
          },
          "metadata": {},
          "execution_count": 40
        },
        {
          "output_type": "display_data",
          "data": {
            "image/png": "[encoded data removed]",
            "text/plain": [
              "<Figure size 432x288 with 1 Axes>"
            ]
          },
          "metadata": {
            "needs_background": "light"
          }
        }
      ]
    },
    {
      "cell_type": "code",
      "metadata": {
        "colab": {
          "base_uri": "https://localhost:8080/",
          "height": 283
        },
        "id": "vnET5ylM8cNX",
        "outputId": "e61faba0-8de5-494b-d2be-9ede4ce583fa"
      },
      "source": [
        "import matplotlib.pyplot as plt\n",
        "x = ['Brian', 'Nick', 'Paco']\n",
        "y = [3,1,4]\n",
        "\n",
        "plt.plot(x,y,'o--')"
      ],
      "execution_count": 42,
      "outputs": [
        {
          "output_type": "execute_result",
          "data": {
            "text/plain": [
              "[<matplotlib.lines.Line2D at 0x7f163e6c2e50>]"
            ]
          },
          "metadata": {},
          "execution_count": 42
        },
        {
          "output_type": "display_data",
          "data": {
            "image/png": "[encoded data removed]",
            "text/plain": [
              "<Figure size 432x288 with 1 Axes>"
            ]
          },
          "metadata": {
            "needs_background": "light"
          }
        }
      ]
    },
    {
      "cell_type": "code",
      "metadata": {
        "colab": {
          "base_uri": "https://localhost:8080/",
          "height": 283
        },
        "id": "gNDymohZEazS",
        "outputId": "5e457676-a4fb-4aa7-b24a-8cea3dea1c5f"
      },
      "source": [
        "import matplotlib.pyplot as plt\n",
        "days = ['Mon', 'Tues', 'Wed', 'Thur', 'Fri']\n",
        "rain = [0, 10, 39, 99, 5]\n",
        "plt.plot(days,rain)"
      ],
      "execution_count": 43,
      "outputs": [
        {
          "output_type": "execute_result",
          "data": {
            "text/plain": [
              "[<matplotlib.lines.Line2D at 0x7f163e54fcd0>]"
            ]
          },
          "metadata": {},
          "execution_count": 43
        },
        {
          "output_type": "display_data",
          "data": {
            "image/png": "[encoded data removed]",
            "text/plain": [
              "<Figure size 432x288 with 1 Axes>"
            ]
          },
          "metadata": {
            "needs_background": "light"
          }
        }
      ]
    },
    {
      "cell_type": "code",
      "metadata": {
        "colab": {
          "base_uri": "https://localhost:8080/",
          "height": 369
        },
        "id": "DX3fPmN_Ea1l",
        "outputId": "f32200cd-2eb1-41e3-d4db-5ae2e0310c60"
      },
      "source": [
        "import matplotlib.pyplot as plt\n",
        "days = ['Mon', 'Tues', 'Wed', 'Thur', 'Fri']\n",
        "rain = []\n",
        "for day in days:\n",
        "  rain_for_day = input('how much rain on  ' +  day)\n",
        "  rain_int = int(rain_for_day)\n",
        "  rain.append(rain_int)\n",
        "plt.plot(days,rain)"
      ],
      "execution_count": 47,
      "outputs": [
        {
          "name": "stdout",
          "output_type": "stream",
          "text": [
            "how much rain on  Mon0\n",
            "how much rain on  Tues10\n",
            "how much rain on  Wed39\n",
            "how much rain on  Thur99\n",
            "how much rain on  Fri10\n"
          ]
        },
        {
          "output_type": "execute_result",
          "data": {
            "text/plain": [
              "[<matplotlib.lines.Line2D at 0x7f163e354e10>]"
            ]
          },
          "metadata": {},
          "execution_count": 47
        },
        {
          "output_type": "display_data",
          "data": {
            "image/png": "[encoded data removed]",
            "text/plain": [
              "<Figure size 432x288 with 1 Axes>"
            ]
          },
          "metadata": {
            "needs_background": "light"
          }
        }
      ]
    },
    {
      "cell_type": "code",
      "metadata": {
        "colab": {
          "base_uri": "https://localhost:8080/",
          "height": 391
        },
        "id": "J7jYqZNwEa33",
        "outputId": "8483bf5d-db1b-4cde-b3d3-ec1e251631a4"
      },
      "source": [
        "import matplotlib.pyplot as plt\n",
        "heights = []\n",
        "gpas = []\n",
        "new_height = ''\n",
        "while new_height != 0 :\n",
        "  new_height = int(input('Enter next height: '))\n",
        "  height_int = int(new_height)\n",
        "  new_gpa = float(input('Enter next gpa: '))\n",
        "  heights.append(height_int)\n",
        "  gpas.append(new_gpa)\n",
        "plt.plot(heights, gpas, 'o')"
      ],
      "execution_count": 54,
      "outputs": [
        {
          "name": "stdout",
          "output_type": "stream",
          "text": [
            "Enter next height: 190\n",
            "Enter next gpa: 2.9\n",
            "Enter next height: 200\n",
            "Enter next gpa: 3.5\n",
            "Enter next height: 173\n",
            "Enter next gpa: 4.0\n",
            "Enter next height: 150\n",
            "Enter next gpa: 2.5\n",
            "Enter next height: \n"
          ]
        },
        {
          "output_type": "error",
          "ename": "ValueError",
          "evalue": "ignored",
          "traceback": [
            "\u001b[0;31m---------------------------------------------------------------------------\u001b[0m",
            "\u001b[0;31mValueError\u001b[0m                                Traceback (most recent call last)",
            "\u001b[0;32m<ipython-input-54-166678cb932c>\u001b[0m in \u001b[0;36m<module>\u001b[0;34m()\u001b[0m\n\u001b[1;32m      4\u001b[0m \u001b[0mnew_height\u001b[0m \u001b[0;34m=\u001b[0m \u001b[0;34m''\u001b[0m\u001b[0;34m\u001b[0m\u001b[0;34m\u001b[0m\u001b[0m\n\u001b[1;32m      5\u001b[0m \u001b[0;32mwhile\u001b[0m \u001b[0mnew_height\u001b[0m \u001b[0;34m!=\u001b[0m \u001b[0;36m0\u001b[0m \u001b[0;34m:\u001b[0m\u001b[0;34m\u001b[0m\u001b[0;34m\u001b[0m\u001b[0m\n\u001b[0;32m----> 6\u001b[0;31m   \u001b[0mnew_height\u001b[0m \u001b[0;34m=\u001b[0m \u001b[0mint\u001b[0m\u001b[0;34m(\u001b[0m\u001b[0minput\u001b[0m\u001b[0;34m(\u001b[0m\u001b[0;34m'Enter next height: '\u001b[0m\u001b[0;34m)\u001b[0m\u001b[0;34m)\u001b[0m\u001b[0;34m\u001b[0m\u001b[0;34m\u001b[0m\u001b[0m\n\u001b[0m\u001b[1;32m      7\u001b[0m   \u001b[0mheight_int\u001b[0m \u001b[0;34m=\u001b[0m \u001b[0mint\u001b[0m\u001b[0;34m(\u001b[0m\u001b[0mnew_height\u001b[0m\u001b[0;34m)\u001b[0m\u001b[0;34m\u001b[0m\u001b[0;34m\u001b[0m\u001b[0m\n\u001b[1;32m      8\u001b[0m   \u001b[0mnew_gpa\u001b[0m \u001b[0;34m=\u001b[0m \u001b[0mfloat\u001b[0m\u001b[0;34m(\u001b[0m\u001b[0minput\u001b[0m\u001b[0;34m(\u001b[0m\u001b[0;34m'Enter next gpa: '\u001b[0m\u001b[0;34m)\u001b[0m\u001b[0;34m)\u001b[0m\u001b[0;34m\u001b[0m\u001b[0;34m\u001b[0m\u001b[0m\n",
            "\u001b[0;31mValueError\u001b[0m: invalid literal for int() with base 10: ''"
          ]
        }
      ]
    },
    {
      "cell_type": "code",
      "metadata": {
        "id": "jp1dP1dvEa6J"
      },
      "source": [
        ""
      ],
      "execution_count": null,
      "outputs": []
    },
    {
      "cell_type": "code",
      "metadata": {
        "id": "8DmQAOjCEa9d"
      },
      "source": [
        ""
      ],
      "execution_count": null,
      "outputs": []
    },
    {
      "cell_type": "code",
      "metadata": {
        "id": "IDvBmncR1EFj"
      },
      "source": [
        ""
      ],
      "execution_count": null,
      "outputs": []
    }
  ]
}