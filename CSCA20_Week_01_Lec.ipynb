{
  "nbformat": 4,
  "nbformat_minor": 0,
  "metadata": {
    "colab": {
      "name": "CSCA20 Week 01 Lec ",
      "provenance": [],
      "authorship_tag": "ABX9TyPjBPubRHOBqohugVcsBIUy",
      "include_colab_link": true
    },
    "kernelspec": {
      "name": "python3",
      "display_name": "Python 3"
    },
    "language_info": {
      "name": "python"
    }
  },
  "cells": [
    {
      "cell_type": "markdown",
      "metadata": {
        "id": "view-in-github",
        "colab_type": "text"
      },
      "source": [
        "<a href=\"https://colab.research.google.com/github/Fondzenyuy/CSca20-Programming/blob/main/CSCA20_Week_01_Lec.ipynb\" target=\"_parent\"><img src=\"https://colab.research.google.com/assets/colab-badge.svg\" alt=\"Open In Colab\"/></a>"
      ]
    },
    {
      "cell_type": "code",
      "metadata": {
        "colab": {
          "base_uri": "https://localhost:8080/"
        },
        "id": "pWDwCJ42ySxR",
        "outputId": "ec6039c7-e43c-4540-918d-4062c1289657"
      },
      "source": [
        "name = input(\"What is your name?\")\n",
        "print('Hi ' + name)\n",
        "#print(\"Nick's a cool Dude\")\n",
        "age = input('How old are you?')\n",
        "int_age = int(age)\n",
        "print(name + ' will be ' + str((int_age + 1)) + ' years old next year')"
      ],
      "execution_count": 25,
      "outputs": [
        {
          "output_type": "stream",
          "name": "stdout",
          "text": [
            "What is your name?Tony\n",
            "Hi Tony\n",
            "How old are you?19\n",
            "Tony will be 20 years old next year\n"
          ]
        }
      ]
    },
    {
      "cell_type": "code",
      "metadata": {
        "colab": {
          "base_uri": "https://localhost:8080/"
        },
        "id": "k0nlIqDOyc1X",
        "outputId": "f3590457-9715-4552-c2e1-6f8cd7b1f5df"
      },
      "source": [
        "age2 = 51\n",
        "print(age2)"
      ],
      "execution_count": 28,
      "outputs": [
        {
          "output_type": "stream",
          "name": "stdout",
          "text": [
            "51\n"
          ]
        }
      ]
    },
    {
      "cell_type": "code",
      "metadata": {
        "colab": {
          "base_uri": "https://localhost:8080/"
        },
        "id": "klkbXPc-yc95",
        "outputId": "66f6908c-afcd-498c-f3f8-40cc5254ff2b"
      },
      "source": [
        "print(\"Nick is \" +  str(age2))"
      ],
      "execution_count": 29,
      "outputs": [
        {
          "output_type": "stream",
          "name": "stdout",
          "text": [
            "Nick is 51\n"
          ]
        }
      ]
    },
    {
      "cell_type": "markdown",
      "metadata": {
        "id": "pD6Ly-LW26tc"
      },
      "source": [
        "# **While Loop**"
      ]
    },
    {
      "cell_type": "code",
      "metadata": {
        "colab": {
          "base_uri": "https://localhost:8080/"
        },
        "id": "aUnVWgPWydBB",
        "outputId": "de62ac05-f9f1-4e45-b3f7-d8f151bd19e1"
      },
      "source": [
        "num = 1\n",
        "while num <= 10:\n",
        "  print(num)\n",
        "  num = num + 1"
      ],
      "execution_count": 30,
      "outputs": [
        {
          "output_type": "stream",
          "name": "stdout",
          "text": [
            "1\n",
            "2\n",
            "3\n",
            "4\n",
            "5\n",
            "6\n",
            "7\n",
            "8\n",
            "9\n",
            "10\n"
          ]
        }
      ]
    },
    {
      "cell_type": "code",
      "metadata": {
        "colab": {
          "base_uri": "https://localhost:8080/"
        },
        "id": "TB3udd2GydFL",
        "outputId": "2e03bac6-0651-4126-be27-b58589e479d0"
      },
      "source": [
        "#if we want to loop even numbers up to 10\n",
        "num = 2\n",
        "while num <= 10:\n",
        "  print(num)\n",
        "  num = num + 2"
      ],
      "execution_count": 36,
      "outputs": [
        {
          "output_type": "stream",
          "name": "stdout",
          "text": [
            "2\n",
            "4\n",
            "6\n",
            "8\n",
            "10\n"
          ]
        }
      ]
    },
    {
      "cell_type": "code",
      "metadata": {
        "colab": {
          "base_uri": "https://localhost:8080/"
        },
        "id": "PsWZyhTh39-S",
        "outputId": "468c00d3-cf42-4e49-e523-a8ae50a7b18a"
      },
      "source": [
        "password = 'secret'\n",
        "guess = input(\"What's the password?\")\n",
        "while guess != password :\n",
        "  guess = input(\"What's the password?\")\n",
        "\n",
        "print(\"Congrats, you guessed the password\")"
      ],
      "execution_count": 37,
      "outputs": [
        {
          "output_type": "stream",
          "name": "stdout",
          "text": [
            "What's the password?bye\n",
            "What's the password?tell\n",
            "What's the password?Secret\n",
            "What's the password?secret\n",
            "Congrats, you guessed the password\n"
          ]
        }
      ]
    },
    {
      "cell_type": "code",
      "metadata": {
        "colab": {
          "base_uri": "https://localhost:8080/"
        },
        "id": "lwuUxiwJ3_vQ",
        "outputId": "c4dca9ef-f335-4933-ebe7-f7cceaecdb47"
      },
      "source": [
        "for n in range(1, 11):\n",
        "  print(n)"
      ],
      "execution_count": 38,
      "outputs": [
        {
          "output_type": "stream",
          "name": "stdout",
          "text": [
            "1\n",
            "2\n",
            "3\n",
            "4\n",
            "5\n",
            "6\n",
            "7\n",
            "8\n",
            "9\n",
            "10\n"
          ]
        }
      ]
    },
    {
      "cell_type": "code",
      "metadata": {
        "colab": {
          "base_uri": "https://localhost:8080/"
        },
        "id": "KgWihmiz3_xe",
        "outputId": "07c2b774-cb56-4057-a491-85d06bee377f"
      },
      "source": [
        "for n in range(0, 11,2):\n",
        "  print(n)"
      ],
      "execution_count": 44,
      "outputs": [
        {
          "output_type": "stream",
          "name": "stdout",
          "text": [
            "0\n",
            "2\n",
            "4\n",
            "6\n",
            "8\n",
            "10\n"
          ]
        }
      ]
    },
    {
      "cell_type": "code",
      "metadata": {
        "colab": {
          "base_uri": "https://localhost:8080/"
        },
        "id": "goaNvtso3_zt",
        "outputId": "7b270a2a-12b2-4126-e476-293a736d92fa"
      },
      "source": [
        "for n in range(10, 0, -1) :\n",
        "  print(n)"
      ],
      "execution_count": 47,
      "outputs": [
        {
          "output_type": "stream",
          "name": "stdout",
          "text": [
            "10\n",
            "9\n",
            "8\n",
            "7\n",
            "6\n",
            "5\n",
            "4\n",
            "3\n",
            "2\n",
            "1\n"
          ]
        }
      ]
    },
    {
      "cell_type": "code",
      "metadata": {
        "colab": {
          "base_uri": "https://localhost:8080/"
        },
        "id": "ZWvbogW_3_1c",
        "outputId": "38d1bcc0-868f-4ccc-eb9c-753ac47055c0"
      },
      "source": [
        "#printing from 10 to 1 using while loop\n",
        "a = 10\n",
        "\n",
        "while a >= 1:\n",
        "  print(a)\n",
        "  a = a - 1"
      ],
      "execution_count": 49,
      "outputs": [
        {
          "output_type": "stream",
          "name": "stdout",
          "text": [
            "10\n",
            "9\n",
            "8\n",
            "7\n",
            "6\n",
            "5\n",
            "4\n",
            "3\n",
            "2\n",
            "1\n"
          ]
        }
      ]
    },
    {
      "cell_type": "code",
      "metadata": {
        "colab": {
          "base_uri": "https://localhost:8080/"
        },
        "id": "4yMJ-a8_3_44",
        "outputId": "c78601eb-edbc-48c5-e0de-b780331662ea"
      },
      "source": [
        "password = 'secret'\n",
        "for num in range(3, 0, -1):\n",
        "  print(' You have ' +  str(num) + ' guesses')\n",
        "  guess = input('Enter guess:')\n",
        "  \n",
        "  #print(\"Yay you got the correct password!\")"
      ],
      "execution_count": 59,
      "outputs": [
        {
          "name": "stdout",
          "output_type": "stream",
          "text": [
            " You have 3 guesses\n",
            "Enter guess:tony\n",
            " You have 2 guesses\n",
            "Enter guess:verbero\n",
            " You have 1 guesses\n",
            "Enter guess:secret\n"
          ]
        }
      ]
    },
    {
      "cell_type": "code",
      "metadata": {
        "colab": {
          "base_uri": "https://localhost:8080/"
        },
        "id": "Yls6qK2X3_7F",
        "outputId": "1572d3d6-c5b5-4830-8e86-486c845f4513"
      },
      "source": [
        "password = 'secret'\n",
        "num = 3\n",
        "while num > 0 :\n",
        "  print('You have ' + str(num) + ' guesses')\n",
        "  guess = input('take a guess:')\n",
        "  num = num - 1\n"
      ],
      "execution_count": 61,
      "outputs": [
        {
          "name": "stdout",
          "output_type": "stream",
          "text": [
            "You have 3 guesses\n",
            "take a guess:bay\n",
            "You have 2 guesses\n",
            "take a guess:street\n",
            "You have 1 guesses\n",
            "take a guess:secret\n"
          ]
        }
      ]
    },
    {
      "cell_type": "code",
      "metadata": {
        "colab": {
          "base_uri": "https://localhost:8080/"
        },
        "id": "7Sf4kVt63_-g",
        "outputId": "50b1df19-9eed-418c-cfe1-cc9dd631de47"
      },
      "source": [
        "password = 'secret'\n",
        "guess = ''\n",
        "num = 3\n",
        "while guess != password and num > 0 :\n",
        "  print('You have ' + str(num) + ' guesses')\n",
        "  guess = input('take a guess:')\n",
        "  num = num - 1\n",
        "\n",
        "\n",
        "print('Yay! you guessed right')"
      ],
      "execution_count": 63,
      "outputs": [
        {
          "output_type": "stream",
          "name": "stdout",
          "text": [
            "You have 3 guesses\n",
            "take a guess:better\n",
            "You have 2 guesses\n",
            "take a guess:secret\n",
            "Yay! you guessed right\n"
          ]
        }
      ]
    },
    {
      "cell_type": "markdown",
      "metadata": {
        "id": "d1wXcJpDCxyd"
      },
      "source": [
        "Program does stop after you get correct passwword"
      ]
    },
    {
      "cell_type": "code",
      "metadata": {
        "colab": {
          "base_uri": "https://localhost:8080/"
        },
        "id": "bn6RS1xyBDsn",
        "outputId": "05bade66-7075-4850-9d46-fc6aa80a0d72"
      },
      "source": [
        "! python --version"
      ],
      "execution_count": 64,
      "outputs": [
        {
          "output_type": "stream",
          "name": "stdout",
          "text": [
            "Python 3.7.12\n"
          ]
        }
      ]
    },
    {
      "cell_type": "code",
      "metadata": {
        "colab": {
          "base_uri": "https://localhost:8080/"
        },
        "id": "djmhfJuzBDzR",
        "outputId": "f7414fe2-077d-475d-9811-25881aac1d33"
      },
      "source": [
        "! python3 -VV"
      ],
      "execution_count": 65,
      "outputs": [
        {
          "output_type": "stream",
          "name": "stdout",
          "text": [
            "Python 3.7.12 (default, Sep 10 2021, 00:21:48) \n",
            "[GCC 7.5.0]\n"
          ]
        }
      ]
    },
    {
      "cell_type": "code",
      "metadata": {
        "id": "vS8sHWL0BD33"
      },
      "source": [
        ""
      ],
      "execution_count": null,
      "outputs": []
    },
    {
      "cell_type": "code",
      "metadata": {
        "id": "6RFv8DyLBD8V"
      },
      "source": [
        ""
      ],
      "execution_count": null,
      "outputs": []
    },
    {
      "cell_type": "code",
      "metadata": {
        "id": "X-WZ4r1gBEAy"
      },
      "source": [
        ""
      ],
      "execution_count": null,
      "outputs": []
    },
    {
      "cell_type": "code",
      "metadata": {
        "id": "vH5Hj0xsBED2"
      },
      "source": [
        ""
      ],
      "execution_count": null,
      "outputs": []
    },
    {
      "cell_type": "code",
      "metadata": {
        "id": "G93UBDhBBEGn"
      },
      "source": [
        ""
      ],
      "execution_count": null,
      "outputs": []
    }
  ]
}