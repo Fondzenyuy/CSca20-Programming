{
  "nbformat": 4,
  "nbformat_minor": 0,
  "metadata": {
    "colab": {
      "name": "CSCA20 TT1 - TonyLouis",
      "provenance": [],
      "collapsed_sections": [],
      "authorship_tag": "ABX9TyPovLyXYBBgsLLh1QGu/mWT",
      "include_colab_link": true
    },
    "kernelspec": {
      "name": "python3",
      "display_name": "Python 3"
    },
    "language_info": {
      "name": "python"
    }
  },
  "cells": [
    {
      "cell_type": "markdown",
      "metadata": {
        "id": "view-in-github",
        "colab_type": "text"
      },
      "source": [
        "<a href=\"https://colab.research.google.com/github/Fondzenyuy/CSca20-Programming/blob/main/ParentCodeTT1.ipynb\" target=\"_parent\"><img src=\"https://colab.research.google.com/assets/colab-badge.svg\" alt=\"Open In Colab\"/></a>"
      ]
    },
    {
      "cell_type": "markdown",
      "metadata": {
        "id": "6rU2lnm03j6U"
      },
      "source": [
        "Perfectly Updated"
      ]
    },
    {
      "cell_type": "code",
      "metadata": {
        "id": "brBeY2Dl5z33",
        "colab": {
          "base_uri": "https://localhost:8080/"
        },
        "outputId": "84a2fb79-5c1d-4331-ef49-976d14a775ea"
      },
      "source": [
        "import matplotlib.pyplot as plt\n",
        "import numpy as np\n",
        "import random \n",
        "from collections import Counter\n",
        "import operator\n",
        "\n",
        "begin = True\n",
        "\n",
        "contlist = []     #contestant list\n",
        "victorylist = []      #victorylist will keep track of winners per match session ( Repetitions ALLOWED)\n",
        "looserlist = []       #looserlist will keep track of loosers per match session (Repetitions ALLOWED)\n",
        "tapir_buildup = []    #will keep track of number of scratched tapirs for entire game\n",
        "while(begin):\n",
        "  print(\"a - add a contestant\")\n",
        "  print(\"m - enter results of a match\")\n",
        "  print(\"r - generate a random match\")\n",
        "  print(\"s - see the current score board(counts number of wins and losses per contestant)\")\n",
        "  print(\"z - end the tournament\")\n",
        "  print(\"q - quit the application\")\n",
        "\n",
        "  user_input = input('Chose an option')\n",
        "\n",
        "  if(user_input == \"a\"):\n",
        "    \n",
        "    add = input(\"Add name of new contestant: \")\n",
        "    if add not in contlist:\n",
        "      contlist.append(add)\n",
        "      print(\"Contestants are \" + str(contlist))\n",
        "    else:\n",
        "      print('Username already exists, Please try another name')\n",
        "\n",
        "  if(user_input == \"m\"):\n",
        "    cont1 = input(\"Contestant 1: \")\n",
        "    cont1scratch = int(input(\"How many tapirs did contestant 1 scratch?: \"))\n",
        "    cont2 = input(\"Contestant 2: \")\n",
        "    cont2scratch = int(input(\"How many tapirs did contestant 2 scratch?: \"))\n",
        "    if (cont1scratch > cont2scratch):\n",
        "      print(str(cont1) + '' + 'is the winner')\n",
        "      victorylist.append(cont1)\n",
        "      looserlist.append(cont2)\n",
        "      tapir_buildup.append(cont1scratch)\n",
        "      tapir_buildup.append(cont2scratch)\n",
        "       \n",
        "    elif (cont1scratch < cont2scratch):\n",
        "      print(str(cont2) + '' + 'is the winner')\n",
        "      victorylist.append(cont2)\n",
        "      looserlist.append(cont1)\n",
        "      tapir_buildup.append(cont1scratch)\n",
        "      tapir_buildup.append(cont2scratch)\n",
        "    elif (cont1scratch == cont2scratch):\n",
        "      print('Which contestant is to be declared the winner?')\n",
        "      tapir_buildup.append(cont1scratch)\n",
        "      tapir_buildup.append(cont2scratch)\n",
        "\n",
        "\n",
        "  if(user_input == \"r\"):\n",
        "    cont1 = print('Random contestant 1 is ' + str(random.choice(contlist)) )\n",
        "    cont2 = print('Random contestant 2 is ' + str(random.choice(contlist)))\n",
        "\n",
        "    cont1 = input(\"Who was randomly selected as contestant 1?: \")\n",
        "    cont2 = input(\"Who was randomly selected as contestant 2?: \")\n",
        "    cont1scratch = int(input(\"How many tapirs did random contestant 1 scratch?: \"))\n",
        "    cont2scratch = int(input(\"How many tapirs did random contestant 2 scratch?: \"))\n",
        "    if (cont1scratch > cont2scratch):\n",
        "      print(str(cont1) + '' + 'is the winner')\n",
        "      victorylist.append(cont1)\n",
        "      looserlist.append(cont2)\n",
        "      tapir_buildup.append(cont1scratch)\n",
        "      tapir_buildup.append(cont2scratch)\n",
        "    elif (cont1scratch < cont2scratch):\n",
        "      print(str(cont2) + '' + 'is the winner')\n",
        "      victorylist.append(cont2)\n",
        "      looserlist.append(cont1)\n",
        "      tapir_buildup.append(cont1scratch)\n",
        "      tapir_buildup.append(cont2scratch)\n",
        "    elif (cont1scratch == cont2scratch):\n",
        "      print('Which contestant is to be declared the winner?')\n",
        "      tapir_buildup.append(cont1scratch)\n",
        "      tapir_buildup.append(cont2scratch)\n",
        "\n",
        "\n",
        "  if(user_input == \"s\"):\n",
        "      victor_count = Counter(victorylist)   #counts wins per contestant into a dictionary(frequency of contestant's name in the victorylist)\n",
        "      looser_count = Counter(looserlist)\n",
        "      print('Wins recorded so far are: ' + '' +  str(victor_count))\n",
        "      print('Defeats(looses) recorded so far are: ' + '' +  str(looser_count))\n",
        "\n",
        "  if(user_input == \"q\"):\n",
        "      begin = False\n",
        "\n",
        "  if(user_input == \"z\"):\n",
        "    max_wins = max(victor_count.values())      #Finds the maximum number of wins\n",
        "    tie_list = [i for i in victor_count.keys() if victor_count[i]==max_wins]    #Search for people having maximum wins and store in a list\n",
        "    if len(tie_list) >= 2:\n",
        "      print(\"Sorry there is a tie between contestants:\" + str(tie_list))\n",
        "      print(\"Please continue the tournament\")\n",
        "    else:\n",
        "      #pour out statistics of game\n",
        "\n",
        "      tapirs = np.array(tapir_buildup)\n",
        "      print(\"Total number of tapirs used in game was: \" + str(np.sum(tapirs)))\n",
        "      \n",
        "      #getting the winner\n",
        "\n",
        "      winner = max(victor_count.items(), key=operator.itemgetter(1))[0]   #Search for person  having maximum wins in dictionary\n",
        "      print('The winner is: ' + str(winner))\n",
        "\n",
        "      #getting total matches played per contestant\n",
        "\n",
        "      \n",
        "      \n",
        "      all_contestants =  looserlist + victorylist   #adding the the victorylist and the looserlist (CATENATION with reppetition allowed) \n",
        "      cont_freq = Counter(all_contestants)   #find the frequency of each contestant's name (dictionary form), this gives the total matches played by the contestant\n",
        "      \n",
        "      print('Total matches per contestant yields :  ' + '' +  str(cont_freq))\n",
        "\n",
        "      #splitting dictionary into contestant names and corresponding number of matches played\n",
        "      contestants = cont_freq.keys()\n",
        "      rounds_per_cont = cont_freq.values()\n",
        "\n",
        "      #splitting victor_count dictionary into contestant names and corresponding wins\n",
        "      contestants2 = victor_count.keys()\n",
        "      victories = victor_count.values()\n",
        "\n",
        "\n",
        "      #getting list of contestants from dictionary in list form\n",
        "      players = list()\n",
        "      for i in cont_freq.keys():\n",
        "        players.append(i)\n",
        "        \n",
        "\n",
        "      #similarly, getting list for number of rounds per contestant\n",
        "      rounds_per_player = list()\n",
        "      for i in cont_freq.values():\n",
        "        rounds_per_player.append(i)\n",
        "\n",
        "      #similarly, getting list of contestants from second dictionary (victor_count) \n",
        "      players2 = list()\n",
        "      for i in victor_count.keys():\n",
        "        players2.append(i)\n",
        "\n",
        "      #similarly, getting list of contestants from second dictionary (victor_count) \n",
        "      tot_wins = list()\n",
        "      for i in victor_count.values():\n",
        "        tot_wins.append(i)\n",
        "\n",
        "      \n",
        "        \n",
        "      \n",
        "      plt.plot(players, rounds_per_player,color = 'green' ,label = 'Matches played')\n",
        "      plt.plot(players, tot_wins , color = 'blue', label = 'Total wins per player')\n",
        "\n",
        "      plt.show()\n",
        "\n",
        "      plt.legend()\n",
        "\n",
        "\n",
        "\n",
        "\n",
        "\n"
      ],
      "execution_count": 82,
      "outputs": [
        {
          "name": "stdout",
          "output_type": "stream",
          "text": [
            "a - add a contestant\n",
            "m - enter results of a match\n",
            "r - generate a random match\n",
            "s - see the current score board(counts number of wins and losses per contestant)\n",
            "z - end the tournament\n",
            "q - quit the application\n",
            "Chose an optionq\n"
          ]
        }
      ]
    },
    {
      "cell_type": "code",
      "metadata": {
        "id": "FRSkN1MqxCMb"
      },
      "source": [
        ""
      ],
      "execution_count": 70,
      "outputs": []
    },
    {
      "cell_type": "code",
      "metadata": {
        "id": "YnodyAawxQVW"
      },
      "source": [
        ""
      ],
      "execution_count": 70,
      "outputs": []
    },
    {
      "cell_type": "code",
      "metadata": {
        "id": "-f4kRmPGxQZZ"
      },
      "source": [
        ""
      ],
      "execution_count": null,
      "outputs": []
    }
  ]
}