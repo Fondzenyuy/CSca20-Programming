{
  "nbformat": 4,
  "nbformat_minor": 0,
  "metadata": {
    "colab": {
      "name": "CSC120 TT1",
      "provenance": [],
      "collapsed_sections": [],
      "authorship_tag": "ABX9TyNH6AQtQ9uPiRMsb3foTZel",
      "include_colab_link": true
    },
    "kernelspec": {
      "name": "python3",
      "display_name": "Python 3"
    },
    "language_info": {
      "name": "python"
    }
  },
  "cells": [
    {
      "cell_type": "markdown",
      "metadata": {
        "id": "view-in-github",
        "colab_type": "text"
      },
      "source": [
        "<a href=\"https://colab.research.google.com/github/Fondzenyuy/CSca20-Programming/blob/main/ParentCodeTT1.ipynb\" target=\"_parent\"><img src=\"https://colab.research.google.com/assets/colab-badge.svg\" alt=\"Open In Colab\"/></a>"
      ]
    },
    {
      "cell_type": "markdown",
      "metadata": {
        "id": "6rU2lnm03j6U"
      },
      "source": [
        "Perfectly Updated"
      ]
    },
    {
      "cell_type": "code",
      "metadata": {
        "id": "brBeY2Dl5z33",
        "colab": {
          "base_uri": "https://localhost:8080/"
        },
        "outputId": "2bbaf77d-6652-435c-8da8-05c442943f6d"
      },
      "source": [
        "import random \n",
        "from collections import Counter\n",
        "import operator\n",
        "\n",
        "begin = True\n",
        "\n",
        "contlist = []     #contestant list\n",
        "victorylist = []      #victorylist will keep track of winners per match session ( Repetitions ALLOWED)\n",
        "looserlist = []       #looserlist will keep track of loosers per match session (Repetitions ALLOWED)\n",
        "\n",
        "while(begin):\n",
        "  print(\"a - add a contestant\")\n",
        "  print(\"m - enter results of a match\")\n",
        "  print(\"r - generate a random match\")\n",
        "  print(\"s - see the current score board(counts number of wins and losses per contestant)\")\n",
        "  print(\"z - end the tournament\")\n",
        "  print(\"q - quit the application\")\n",
        "\n",
        "  user_input = input('Chose an option')\n",
        "\n",
        "  if(user_input == \"a\"):\n",
        "    \n",
        "    add = input(\"Add name of new contestant: \")\n",
        "    if add not in contlist:\n",
        "      contlist.append(add)\n",
        "      print(\"Contestants are \" + str(contlist))\n",
        "    else:\n",
        "      print('Username already exists, Please try another name')\n",
        "\n",
        "  if(user_input == \"m\"):\n",
        "    cont1 = input(\"Contestant 1: \")\n",
        "    cont1scratch = int(input(\"How many tapirs did contestant 1 scratch?: \"))\n",
        "    cont2 = input(\"Contestant 2: \")\n",
        "    cont2scratch = int(input(\"How many tapirs did contestant 2 scratch?: \"))\n",
        "    if (cont1scratch > cont2scratch):\n",
        "      print(str(cont1) + '' + 'is the winner')\n",
        "      victorylist.append(cont1)\n",
        "      looserlist.append(cont2)\n",
        "      #win_count=Counter(votes)\n",
        "    elif (cont1scratch < cont2scratch):\n",
        "      print(str(cont2) + '' + 'is the winner')\n",
        "      victorylist.append(cont2)\n",
        "      looserlist.append(cont1)\n",
        "    elif (cont1scratch == cont2scratch):\n",
        "      print('Which contestant is to be declared the winner?')\n",
        "\n",
        "\n",
        "  if(user_input == \"r\"):\n",
        "    cont1 = print('Random contestant 1 is ' + str(random.choice(contlist)) )\n",
        "    cont2 = print('Random contestant 2 is ' + str(random.choice(contlist)))\n",
        "\n",
        "    cont1 = input(\"Who was randomly selected as contestant 1?: \")\n",
        "    cont2 = input(\"Who was randomly selected as contestant 2?: \")\n",
        "    cont1scratch = int(input(\"How many tapirs did random contestant 1 scratch?: \"))\n",
        "    cont2scratch = int(input(\"How many tapirs did random contestant 2 scratch?: \"))\n",
        "    if (cont1scratch > cont2scratch):\n",
        "      print(str(cont1) + '' + 'is the winner')\n",
        "      victorylist.append(cont1)\n",
        "      looserlist.append(cont2)\n",
        "    elif (cont1scratch < cont2scratch):\n",
        "      print(str(cont2) + '' + 'is the winner')\n",
        "      victorylist.append(cont2)\n",
        "      looserlist.append(cont1)\n",
        "    elif (cont1scratch == cont2scratch):\n",
        "      print('Which contestant is to be declared the winner?')\n",
        "\n",
        "\n",
        "  if(user_input == \"s\"):\n",
        "      victor_count = Counter(victorylist)   #counts wins per contestant in the dictionary(frequency of contestant's name in the victorylist)\n",
        "      looser_count = Counter(looserlist)\n",
        "      print('Wins recorded so far are: ' + '' +  str(victor_count))\n",
        "      print('Defeats(looses) recorded so far are: ' + '' +  str(looser_count))\n",
        "\n",
        "  if(user_input == \"q\"):\n",
        "      begin = False\n",
        "\n",
        "  if(user_input == \"z\"):\n",
        "    max_wins = max(victor_count.values())      #Finds the maximum number of wins\n",
        "    tie_list = [i for i in victor_count.keys() if victor_count[i]==max_wins]    #Search for people having maximum wins and store in a list\n",
        "    if len(tie_list) >= 2:\n",
        "      print(\"Sorry there is a tie between contestants:\" + str(tie_list))\n",
        "      print(\"Please continue the tournament\")\n",
        "    else:\n",
        "      #pour out statistics of game\n",
        "      \n",
        "      winner = max(victor_count.items(), key=operator.itemgetter(1))[0]   #Search for person  having maximum wins in dictionary\n",
        "      print('The winner is: ' + str(winner))\n"
      ],
      "execution_count": 33,
      "outputs": [
        {
          "name": "stdout",
          "output_type": "stream",
          "text": [
            "a - add a contestant\n",
            "m - enter results of a match\n",
            "r - generate a random match\n",
            "s - see the current score board(counts number of wins and losses per contestant)\n",
            "z - end the tournament\n",
            "q - quit the application\n",
            "Chose an optionq\n"
          ]
        }
      ]
    },
    {
      "cell_type": "code",
      "metadata": {
        "colab": {
          "base_uri": "https://localhost:8080/"
        },
        "id": "OgN6lGto6GmM",
        "outputId": "a00f1ea4-3fc8-4f20-97cf-447192c5e69d"
      },
      "source": [
        ""
      ],
      "execution_count": 28,
      "outputs": [
        {
          "output_type": "execute_result",
          "data": {
            "text/plain": [
              "[]"
            ]
          },
          "metadata": {},
          "execution_count": 28
        }
      ]
    },
    {
      "cell_type": "code",
      "metadata": {
        "id": "Wepc6XB34av8"
      },
      "source": [
        ""
      ],
      "execution_count": null,
      "outputs": []
    }
  ]
}