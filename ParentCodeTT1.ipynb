{
  "nbformat": 4,
  "nbformat_minor": 0,
  "metadata": {
    "colab": {
      "name": "CSCA20 TT1 - TonyLouis",
      "provenance": [],
      "collapsed_sections": [],
      "authorship_tag": "ABX9TyM3HdTc3ckzd2AI1yoOiHDb",
      "include_colab_link": true
    },
    "kernelspec": {
      "name": "python3",
      "display_name": "Python 3"
    },
    "language_info": {
      "name": "python"
    }
  },
  "cells": [
    {
      "cell_type": "markdown",
      "metadata": {
        "id": "view-in-github",
        "colab_type": "text"
      },
      "source": [
        "<a href=\"https://colab.research.google.com/github/Fondzenyuy/CSca20-Programming/blob/main/ParentCodeTT1.ipynb\" target=\"_parent\"><img src=\"https://colab.research.google.com/assets/colab-badge.svg\" alt=\"Open In Colab\"/></a>"
      ]
    },
    {
      "cell_type": "markdown",
      "metadata": {
        "id": "6rU2lnm03j6U"
      },
      "source": [
        "Perfectly Updated"
      ]
    },
    {
      "cell_type": "code",
      "metadata": {
        "id": "brBeY2Dl5z33",
        "colab": {
          "base_uri": "https://localhost:8080/",
          "height": 1000
        },
        "outputId": "70693d23-fd6a-4914-ec32-0b789946f6ef"
      },
      "source": [
        "import matplotlib.pyplot as plt\n",
        "import numpy as np\n",
        "import random \n",
        "from collections import Counter\n",
        "import operator\n",
        "\n",
        "begin = True\n",
        "\n",
        "contlist = []     #contestant list\n",
        "victorylist = []      #victorylist will keep track of winners per match session ( Repetitions ALLOWED)\n",
        "looserlist = []       #looserlist will keep track of loosers per match session (Repetitions ALLOWED)\n",
        "\n",
        "while(begin):\n",
        "  print(\"a - add a contestant\")\n",
        "  print(\"m - enter results of a match\")\n",
        "  print(\"r - generate a random match\")\n",
        "  print(\"s - see the current score board(counts number of wins and losses per contestant)\")\n",
        "  print(\"z - end the tournament\")\n",
        "  print(\"q - quit the application\")\n",
        "\n",
        "  user_input = input('Chose an option')\n",
        "\n",
        "  if(user_input == \"a\"):\n",
        "    \n",
        "    add = input(\"Add name of new contestant: \")\n",
        "    if add not in contlist:\n",
        "      contlist.append(add)\n",
        "      print(\"Contestants are \" + str(contlist))\n",
        "    else:\n",
        "      print('Username already exists, Please try another name')\n",
        "\n",
        "  if(user_input == \"m\"):\n",
        "    cont1 = input(\"Contestant 1: \")\n",
        "    cont1scratch = int(input(\"How many tapirs did contestant 1 scratch?: \"))\n",
        "    cont2 = input(\"Contestant 2: \")\n",
        "    cont2scratch = int(input(\"How many tapirs did contestant 2 scratch?: \"))\n",
        "    if (cont1scratch > cont2scratch):\n",
        "      print(str(cont1) + '' + 'is the winner')\n",
        "      victorylist.append(cont1)\n",
        "      looserlist.append(cont2)\n",
        "      #win_count=Counter(votes)\n",
        "    elif (cont1scratch < cont2scratch):\n",
        "      print(str(cont2) + '' + 'is the winner')\n",
        "      victorylist.append(cont2)\n",
        "      looserlist.append(cont1)\n",
        "    elif (cont1scratch == cont2scratch):\n",
        "      print('Which contestant is to be declared the winner?')\n",
        "\n",
        "\n",
        "  if(user_input == \"r\"):\n",
        "    cont1 = print('Random contestant 1 is ' + str(random.choice(contlist)) )\n",
        "    cont2 = print('Random contestant 2 is ' + str(random.choice(contlist)))\n",
        "\n",
        "    cont1 = input(\"Who was randomly selected as contestant 1?: \")\n",
        "    cont2 = input(\"Who was randomly selected as contestant 2?: \")\n",
        "    cont1scratch = int(input(\"How many tapirs did random contestant 1 scratch?: \"))\n",
        "    cont2scratch = int(input(\"How many tapirs did random contestant 2 scratch?: \"))\n",
        "    if (cont1scratch > cont2scratch):\n",
        "      print(str(cont1) + '' + 'is the winner')\n",
        "      victorylist.append(cont1)\n",
        "      looserlist.append(cont2)\n",
        "    elif (cont1scratch < cont2scratch):\n",
        "      print(str(cont2) + '' + 'is the winner')\n",
        "      victorylist.append(cont2)\n",
        "      looserlist.append(cont1)\n",
        "    elif (cont1scratch == cont2scratch):\n",
        "      print('Which contestant is to be declared the winner?')\n",
        "\n",
        "\n",
        "  if(user_input == \"s\"):\n",
        "      victor_count = Counter(victorylist)   #counts wins per contestant into a dictionary(frequency of contestant's name in the victorylist)\n",
        "      looser_count = Counter(looserlist)\n",
        "      print('Wins recorded so far are: ' + '' +  str(victor_count))\n",
        "      print('Defeats(looses) recorded so far are: ' + '' +  str(looser_count))\n",
        "\n",
        "  if(user_input == \"q\"):\n",
        "      begin = False\n",
        "\n",
        "  if(user_input == \"z\"):\n",
        "    max_wins = max(victor_count.values())      #Finds the maximum number of wins\n",
        "    tie_list = [i for i in victor_count.keys() if victor_count[i]==max_wins]    #Search for people having maximum wins and store in a list\n",
        "    if len(tie_list) >= 2:\n",
        "      print(\"Sorry there is a tie between contestants:\" + str(tie_list))\n",
        "      print(\"Please continue the tournament\")\n",
        "    else:\n",
        "      #pour out statistics of game\n",
        "      \n",
        "      #getting the winner\n",
        "\n",
        "      winner = max(victor_count.items(), key=operator.itemgetter(1))[0]   #Search for person  having maximum wins in dictionary\n",
        "      print('The winner is: ' + str(winner))\n",
        "\n",
        "      #getting total matches played per contestant\n",
        "\n",
        "      \n",
        "      \n",
        "      all_contestants =  looserlist + victorylist   #adding the the victorylist and the looserlist (CATENATION with reppetition allowed) \n",
        "      cont_freq = Counter(all_contestants)   #find the frequency of each contestant's name (dictionary form), this gives the total matches played by the contestant\n",
        "      \n",
        "      print('Total matches per contestant yields :  ' + '' +  str(cont_freq))\n",
        "\n",
        "      #splitting dictionary into contestant names and corresponding number of matches played\n",
        "      contestants = cont_freq.keys()\n",
        "      rounds_per_cont = cont_freq.values()\n",
        "\n",
        "      #splitting victor_count dictionary into contestant names and corresponding wins\n",
        "      contestants2 = victor_count.keys()\n",
        "      victories = victor_count.values()\n",
        "\n",
        "\n",
        "      #getting list of contestants from dictionary in list form\n",
        "      players = list()\n",
        "      for i in cont_freq.keys():\n",
        "        players.append(i)\n",
        "        \n",
        "\n",
        "      #similarly, getting list for number of rounds per contestant\n",
        "      rounds_per_player = list()\n",
        "      for i in cont_freq.values():\n",
        "        rounds_per_player.append(i)\n",
        "\n",
        "      #similarly, getting list of contestants from second dictionary (victor_count) \n",
        "      #players2 = list()\n",
        "      #for i in victor_count.keys():\n",
        "        #players2.append(i)\n",
        "\n",
        "      #similarly, getting list of contestants from second dictionary (victor_count) \n",
        "      tot_wins = list()\n",
        "      for i in victor_count.values():\n",
        "        tot_wins.append(i)\n",
        "\n",
        "      \n",
        "        \n",
        "      \n",
        "      plt.plot(players, rounds_per_player,color = 'green' ,label = 'Matches played')\n",
        "      plt.plot(players, tot_wins , color = 'blue', label = 'Total wins per player')\n",
        "\n",
        "      plt.show()\n",
        "\n",
        "      plt.legend()\n",
        "\n",
        "\n",
        "\n",
        "\n",
        "\n"
      ],
      "execution_count": 75,
      "outputs": [
        {
          "output_type": "stream",
          "name": "stdout",
          "text": [
            "a - add a contestant\n",
            "m - enter results of a match\n",
            "r - generate a random match\n",
            "s - see the current score board(counts number of wins and losses per contestant)\n",
            "z - end the tournament\n",
            "q - quit the application\n",
            "Chose an optiona\n",
            "Add name of new contestant: tony\n",
            "Contestants are ['tony']\n",
            "a - add a contestant\n",
            "m - enter results of a match\n",
            "r - generate a random match\n",
            "s - see the current score board(counts number of wins and losses per contestant)\n",
            "z - end the tournament\n",
            "q - quit the application\n",
            "Chose an optionlo\n",
            "a - add a contestant\n",
            "m - enter results of a match\n",
            "r - generate a random match\n",
            "s - see the current score board(counts number of wins and losses per contestant)\n",
            "z - end the tournament\n",
            "q - quit the application\n",
            "Chose an optiona\n",
            "Add name of new contestant: lo\n",
            "Contestants are ['tony', 'lo']\n",
            "a - add a contestant\n",
            "m - enter results of a match\n",
            "r - generate a random match\n",
            "s - see the current score board(counts number of wins and losses per contestant)\n",
            "z - end the tournament\n",
            "q - quit the application\n",
            "Chose an optiona\n",
            "Add name of new contestant: to\n",
            "Contestants are ['tony', 'lo', 'to']\n",
            "a - add a contestant\n",
            "m - enter results of a match\n",
            "r - generate a random match\n",
            "s - see the current score board(counts number of wins and losses per contestant)\n",
            "z - end the tournament\n",
            "q - quit the application\n",
            "Chose an optionm\n",
            "Contestant 1: to\n",
            "How many tapirs did contestant 1 scratch?: 5\n",
            "Contestant 2: lo\n",
            "How many tapirs did contestant 2 scratch?: 6\n",
            "lois the winner\n",
            "a - add a contestant\n",
            "m - enter results of a match\n",
            "r - generate a random match\n",
            "s - see the current score board(counts number of wins and losses per contestant)\n",
            "z - end the tournament\n",
            "q - quit the application\n",
            "Chose an optionm\n",
            "Contestant 1: to\n",
            "How many tapirs did contestant 1 scratch?: 3\n",
            "Contestant 2: lo\n",
            "How many tapirs did contestant 2 scratch?: 6\n",
            "lois the winner\n",
            "a - add a contestant\n",
            "m - enter results of a match\n",
            "r - generate a random match\n",
            "s - see the current score board(counts number of wins and losses per contestant)\n",
            "z - end the tournament\n",
            "q - quit the application\n",
            "Chose an optionm\n",
            "Contestant 1: to\n",
            "How many tapirs did contestant 1 scratch?: 6\n",
            "Contestant 2: lo\n",
            "How many tapirs did contestant 2 scratch?: 4\n",
            "tois the winner\n",
            "a - add a contestant\n",
            "m - enter results of a match\n",
            "r - generate a random match\n",
            "s - see the current score board(counts number of wins and losses per contestant)\n",
            "z - end the tournament\n",
            "q - quit the application\n",
            "Chose an optionm\n",
            "Contestant 1: to\n",
            "How many tapirs did contestant 1 scratch?: 4\n",
            "Contestant 2: lo\n",
            "How many tapirs did contestant 2 scratch?: 9\n",
            "lois the winner\n",
            "a - add a contestant\n",
            "m - enter results of a match\n",
            "r - generate a random match\n",
            "s - see the current score board(counts number of wins and losses per contestant)\n",
            "z - end the tournament\n",
            "q - quit the application\n",
            "Chose an options\n",
            "Wins recorded so far are: Counter({'lo': 3, 'to': 1})\n",
            "Defeats(looses) recorded so far are: Counter({'to': 3, 'lo': 1})\n",
            "a - add a contestant\n",
            "m - enter results of a match\n",
            "r - generate a random match\n",
            "s - see the current score board(counts number of wins and losses per contestant)\n",
            "z - end the tournament\n",
            "q - quit the application\n",
            "Chose an optionz\n",
            "The winner is: lo\n",
            "Total matches per contestant yields :  Counter({'to': 4, 'lo': 4})\n"
          ]
        },
        {
          "output_type": "display_data",
          "data": {
            "image/png": "[encoded data removed]",
            "text/plain": [
              "<Figure size 432x288 with 1 Axes>"
            ]
          },
          "metadata": {
            "needs_background": "light"
          }
        },
        {
          "output_type": "stream",
          "name": "stderr",
          "text": [
            "No handles with labels found to put in legend.\n"
          ]
        },
        {
          "name": "stdout",
          "output_type": "stream",
          "text": [
            "a - add a contestant\n",
            "m - enter results of a match\n",
            "r - generate a random match\n",
            "s - see the current score board(counts number of wins and losses per contestant)\n",
            "z - end the tournament\n",
            "q - quit the application\n",
            "Chose an optionq\n"
          ]
        },
        {
          "output_type": "display_data",
          "data": {
            "image/png": "[encoded data removed]",
            "text/plain": [
              "<Figure size 432x288 with 1 Axes>"
            ]
          },
          "metadata": {
            "needs_background": "light"
          }
        }
      ]
    },
    {
      "cell_type": "code",
      "metadata": {
        "colab": {
          "base_uri": "https://localhost:8080/"
        },
        "id": "2_QvUrOXsLK_",
        "outputId": "ab218808-ed08-441b-d1a4-b9725cdeb34b"
      },
      "source": [
        "cont_freq"
      ],
      "execution_count": 56,
      "outputs": [
        {
          "output_type": "execute_result",
          "data": {
            "text/plain": [
              "Counter({'lo': 2, 'to': 2})"
            ]
          },
          "metadata": {},
          "execution_count": 56
        }
      ]
    },
    {
      "cell_type": "code",
      "metadata": {
        "id": "OgN6lGto6GmM"
      },
      "source": [
        "\n"
      ],
      "execution_count": 68,
      "outputs": []
    },
    {
      "cell_type": "code",
      "metadata": {
        "colab": {
          "base_uri": "https://localhost:8080/"
        },
        "id": "Wepc6XB34av8",
        "outputId": "0dd4f42f-fb32-42b4-eef3-3e4db2aacefc"
      },
      "source": [
        "contestants"
      ],
      "execution_count": 63,
      "outputs": [
        {
          "output_type": "execute_result",
          "data": {
            "text/plain": [
              "dict_keys(['to', 'lo'])"
            ]
          },
          "metadata": {},
          "execution_count": 63
        }
      ]
    },
    {
      "cell_type": "code",
      "metadata": {
        "colab": {
          "base_uri": "https://localhost:8080/"
        },
        "id": "3kov5-GQxAmx",
        "outputId": "9dde2ce4-e02b-4c1e-ab9c-921d31031e16"
      },
      "source": [
        "rounds_per_player"
      ],
      "execution_count": 69,
      "outputs": [
        {
          "output_type": "execute_result",
          "data": {
            "text/plain": [
              "[2, 2]"
            ]
          },
          "metadata": {},
          "execution_count": 69
        }
      ]
    },
    {
      "cell_type": "code",
      "metadata": {
        "id": "FRSkN1MqxCMb"
      },
      "source": [
        ""
      ],
      "execution_count": 70,
      "outputs": []
    },
    {
      "cell_type": "code",
      "metadata": {
        "id": "YnodyAawxQVW"
      },
      "source": [
        ""
      ],
      "execution_count": 70,
      "outputs": []
    },
    {
      "cell_type": "code",
      "metadata": {
        "id": "-f4kRmPGxQZZ"
      },
      "source": [
        ""
      ],
      "execution_count": null,
      "outputs": []
    }
  ]
}