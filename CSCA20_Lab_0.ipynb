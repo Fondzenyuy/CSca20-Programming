{
  "nbformat": 4,
  "nbformat_minor": 0,
  "metadata": {
    "colab": {
      "name": "CSCA20 Lab 0",
      "provenance": [],
      "authorship_tag": "ABX9TyOAZMdACykQp8W+uZO+dwKd",
      "include_colab_link": true
    },
    "kernelspec": {
      "name": "python3",
      "display_name": "Python 3"
    },
    "language_info": {
      "name": "python"
    }
  },
  "cells": [
    {
      "cell_type": "markdown",
      "metadata": {
        "id": "view-in-github",
        "colab_type": "text"
      },
      "source": [
        "<a href=\"https://colab.research.google.com/github/Fondzenyuy/CSca20-Programming/blob/main/CSCA20_Lab_0.ipynb\" target=\"_parent\"><img src=\"https://colab.research.google.com/assets/colab-badge.svg\" alt=\"Open In Colab\"/></a>"
      ]
    },
    {
      "cell_type": "code",
      "metadata": {
        "id": "LB0B884HwVfF"
      },
      "source": [
        "#lab0_starter"
      ],
      "execution_count": null,
      "outputs": []
    },
    {
      "cell_type": "code",
      "metadata": {
        "colab": {
          "base_uri": "https://localhost:8080/"
        },
        "id": "z3FBcUxnwkq8",
        "outputId": "a20f333e-ab93-4794-8140-22ea5a93588b"
      },
      "source": [
        "first = input(\"What is your first name?\")\n",
        "last = input(\"What is your last name?\")\n",
        "print(\"Your name is: \" + first + \" \" + last)"
      ],
      "execution_count": null,
      "outputs": [
        {
          "output_type": "stream",
          "name": "stdout",
          "text": [
            "What is your first name?TonyLouis Verberi\n",
            "What is your last name?Fondzenyuy\n",
            "Your name is: TonyLouis Verberi Fondzenyuy\n"
          ]
        }
      ]
    },
    {
      "cell_type": "code",
      "metadata": {
        "id": "Lb9ZCytawkuX"
      },
      "source": [
        "#1 human year = 7 dog years\n",
        "#1 turtle year = 2.5 human years\n",
        "#assume that the user will enter their age in human years\n",
        "#your code goes here\n",
        "#???? = input(\"How old are you?\")\n",
        "#print(\"In human years you are: \" + human_age)\n",
        "#print(\"In dog years you are: \" + str(dog_age))\n",
        "#print(\"In turtle years you are: \" + str(turtle_age))\n"
      ],
      "execution_count": null,
      "outputs": []
    },
    {
      "cell_type": "code",
      "metadata": {
        "id": "alI1e5oWxkD2"
      },
      "source": [
        ""
      ],
      "execution_count": null,
      "outputs": []
    },
    {
      "cell_type": "code",
      "metadata": {
        "id": "Lqc8dNIDxkHz"
      },
      "source": [
        ""
      ],
      "execution_count": null,
      "outputs": []
    },
    {
      "cell_type": "code",
      "metadata": {
        "id": "lw83bJa6xkLB"
      },
      "source": [
        ""
      ],
      "execution_count": null,
      "outputs": []
    }
  ]
}