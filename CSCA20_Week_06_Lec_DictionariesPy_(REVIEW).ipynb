{
  "nbformat": 4,
  "nbformat_minor": 5,
  "metadata": {
    "kernelspec": {
      "display_name": "Python 3",
      "language": "python",
      "name": "python3"
    },
    "language_info": {
      "codemirror_mode": {
        "name": "ipython",
        "version": 3
      },
      "file_extension": ".py",
      "mimetype": "text/x-python",
      "name": "python",
      "nbconvert_exporter": "python",
      "pygments_lexer": "ipython3",
      "version": "3.8.8"
    },
    "colab": {
      "name": "CSCA20_Week_06_Lec_DictionariesPy (REVIEW).ipynb",
      "provenance": [],
      "include_colab_link": true
    }
  },
  "cells": [
    {
      "cell_type": "markdown",
      "metadata": {
        "id": "view-in-github",
        "colab_type": "text"
      },
      "source": [
        "<a href=\"https://colab.research.google.com/github/Fondzenyuy/CSca20-Programming/blob/main/CSCA20_Week_06_Lec_DictionariesPy_(REVIEW).ipynb\" target=\"_parent\"><img src=\"https://colab.research.google.com/assets/colab-badge.svg\" alt=\"Open In Colab\"/></a>"
      ]
    },
    {
      "cell_type": "code",
      "metadata": {
        "colab": {
          "base_uri": "https://localhost:8080/"
        },
        "id": "500ccdad-12ce-4e98-a3a8-5135a3675049",
        "outputId": "478d199d-7169-4bfa-9da8-b98d5275182c"
      },
      "source": [
        "# Python dictionaries!\n",
        "my_dictionary = {'tapir': 'mammal found in Uruguay', 'wombat': 'mammal found in Australia'}\n",
        "\n",
        "for word, meaning in my_dictionary.items():\n",
        "    print('Word: ' + word + ' Meaning: ' + meaning)\n",
        "\n",
        "# add a word-meaning pair or changing the meaning of a word\n",
        "#word = input('Please enter a word:')\n",
        "#meaning = input('Please enter the meaning of ' + word + ':')\n",
        "#my_dictionary[word] = meaning\n",
        "\n",
        "# look up a word\n",
        "word = input('Please enter a word:')\n",
        "if word in my_dictionary:\n",
        "    print('the meaning of ' + word + ' is ' + my_dictionary[word])\n",
        "else:\n",
        "    print('Sorry, ' + word + ' is not in my dictionary')\n",
        "\n",
        "for word, meaning in my_dictionary.items():\n",
        "    print('Word: ' + word + ' Meaning: ' + meaning)"
      ],
      "id": "500ccdad-12ce-4e98-a3a8-5135a3675049",
      "execution_count": 1,
      "outputs": [
        {
          "output_type": "stream",
          "name": "stdout",
          "text": [
            "Word: tapir Meaning: mammal found in Uruguay\n",
            "Word: wombat Meaning: mammal found in Australia\n",
            "Please enter a word:tapir\n",
            "the meaning of tapir is mammal found in Uruguay\n",
            "Word: tapir Meaning: mammal found in Uruguay\n",
            "Word: wombat Meaning: mammal found in Australia\n"
          ]
        }
      ]
    },
    {
      "cell_type": "code",
      "metadata": {
        "id": "5386e87c-83df-48b0-b2a6-7053de0a145e",
        "outputId": "ec2e46a2-f8de-4368-ea71-40a129962bdc"
      },
      "source": [
        "name_to_grade = {'Anush': '', 'Beinan': '', 'Carol': '', 'Dan': ''}\n",
        "for name in name_to_grade:\n",
        "    grade = int(input('Please enter grade for ' + name + ':'))\n",
        "    name_to_grade[name] = grade\n",
        "\n",
        "print(name_to_grade)\n",
        "\n",
        "# ask for an individual change of grade\n",
        "name = input('Please enter name:')\n",
        "grade = int(input('Please enter new grade for ' + name + ':'))\n",
        "name_to_grade[name] = grade\n",
        "\n",
        "print(name_to_grade)"
      ],
      "id": "5386e87c-83df-48b0-b2a6-7053de0a145e",
      "execution_count": null,
      "outputs": [
        {
          "name": "stdin",
          "output_type": "stream",
          "text": [
            "Please enter grade for Anush: 99\n",
            "Please enter grade for Beinan: 88\n",
            "Please enter grade for Carol: 77\n",
            "Please enter grade for Dan: 66\n"
          ]
        },
        {
          "name": "stdout",
          "output_type": "stream",
          "text": [
            "{'Anush': 99, 'Beinan': 88, 'Carol': 77, 'Dan': 66}\n"
          ]
        },
        {
          "name": "stdin",
          "output_type": "stream",
          "text": [
            "Please enter name: Carol\n",
            "Please enter new grade for Carol: 50\n"
          ]
        },
        {
          "name": "stdout",
          "output_type": "stream",
          "text": [
            "{'Anush': 99, 'Beinan': 88, 'Carol': 50, 'Dan': 66}\n"
          ]
        }
      ]
    },
    {
      "cell_type": "code",
      "metadata": {
        "id": "c1e4ee98-81da-40a0-9f92-29f859e36def"
      },
      "source": [
        "dictionary = {'Nick': 100}\n",
        "orig_dictionary = dictionary.copy()\n",
        "\n",
        "x = 5\n",
        "y = x\n",
        "x = x + 1"
      ],
      "id": "c1e4ee98-81da-40a0-9f92-29f859e36def",
      "execution_count": null,
      "outputs": []
    }
  ]
}