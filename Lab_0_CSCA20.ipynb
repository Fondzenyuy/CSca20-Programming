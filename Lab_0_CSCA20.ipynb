{
  "nbformat": 4,
  "nbformat_minor": 0,
  "metadata": {
    "colab": {
      "name": "Lab 0 - CSCA20",
      "provenance": [],
      "authorship_tag": "ABX9TyOBWKQgJEVNwgf4+w766uUI",
      "include_colab_link": true
    },
    "kernelspec": {
      "name": "python3",
      "display_name": "Python 3"
    },
    "language_info": {
      "name": "python"
    }
  },
  "cells": [
    {
      "cell_type": "markdown",
      "metadata": {
        "id": "view-in-github",
        "colab_type": "text"
      },
      "source": [
        "<a href=\"https://colab.research.google.com/github/Fondzenyuy/CSca20-Programming/blob/main/Lab_0_CSCA20.ipynb\" target=\"_parent\"><img src=\"https://colab.research.google.com/assets/colab-badge.svg\" alt=\"Open In Colab\"/></a>"
      ]
    },
    {
      "cell_type": "code",
      "metadata": {
        "colab": {
          "base_uri": "https://localhost:8080/"
        },
        "id": "p_Wua2mZnhB9",
        "outputId": "f652eddd-ded9-4403-e708-8a8f9128048f"
      },
      "source": [
        "first = input(\"What is your first name? \")\n",
        "last = input(\"What is your last name? \")\n",
        "print(\"Your name is: \" + first + \" \" + last)"
      ],
      "execution_count": 8,
      "outputs": [
        {
          "output_type": "stream",
          "name": "stdout",
          "text": [
            "What is your first name? TonyLouis\n",
            "What is your last name? Fondzenyuy\n",
            "Your name is: TonyLouis Fondzenyuy\n"
          ]
        }
      ]
    },
    {
      "cell_type": "markdown",
      "metadata": {
        "id": "Pink9MxUnzAN"
      },
      "source": [
        "## **Conversions**\n",
        "\n",
        "1 human year = 7 dog years\n",
        "\n",
        "1 turtle year = 2.5 human years\n",
        "\n",
        "### assume that the user will enter their age in human years"
      ]
    },
    {
      "cell_type": "code",
      "metadata": {
        "colab": {
          "base_uri": "https://localhost:8080/"
        },
        "id": "BcYA5xNwnkaC",
        "outputId": "5f17cf84-90f6-4e0a-a832-d24f2de7d485"
      },
      "source": [
        "human_age = input(\"How old are you? \")\n",
        "dog_age = 7*int(human_age)\n",
        "turtle_age = int(2.5*int(human_age))"
      ],
      "execution_count": 11,
      "outputs": [
        {
          "name": "stdout",
          "output_type": "stream",
          "text": [
            "How old are you? 18\n"
          ]
        }
      ]
    },
    {
      "cell_type": "code",
      "metadata": {
        "colab": {
          "base_uri": "https://localhost:8080/"
        },
        "id": "Qcom5Zmpnkeo",
        "outputId": "44f48fb0-6620-4226-96a5-9f21135ee2f2"
      },
      "source": [
        "print(\"In human years you are: \" + human_age)\n",
        "print(\"In dog years you are: \" + str(dog_age))\n",
        "print(\"In turtle years you are: \" + str(turtle_age))"
      ],
      "execution_count": 12,
      "outputs": [
        {
          "output_type": "stream",
          "name": "stdout",
          "text": [
            "In human years you are: 18\n",
            "In dog years you are: 126\n",
            "In turtle years you are: 45\n"
          ]
        }
      ]
    },
    {
      "cell_type": "code",
      "metadata": {
        "id": "W238ultAnkim"
      },
      "source": [
        ""
      ],
      "execution_count": null,
      "outputs": []
    },
    {
      "cell_type": "code",
      "metadata": {
        "id": "C6F0Oem3p486"
      },
      "source": [
        ""
      ],
      "execution_count": null,
      "outputs": []
    },
    {
      "cell_type": "code",
      "metadata": {
        "id": "lPgW2zKWp5Cb"
      },
      "source": [
        ""
      ],
      "execution_count": null,
      "outputs": []
    },
    {
      "cell_type": "code",
      "metadata": {
        "id": "OIWWnLbfp5FW"
      },
      "source": [
        ""
      ],
      "execution_count": null,
      "outputs": []
    },
    {
      "cell_type": "code",
      "metadata": {
        "id": "zoPNqIE9nknX"
      },
      "source": [
        ""
      ],
      "execution_count": null,
      "outputs": []
    }
  ]
}