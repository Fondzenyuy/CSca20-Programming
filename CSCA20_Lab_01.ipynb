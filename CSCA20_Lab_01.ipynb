{
  "nbformat": 4,
  "nbformat_minor": 0,
  "metadata": {
    "colab": {
      "name": "CSCA20_Lab_01",
      "provenance": [],
      "collapsed_sections": [],
      "authorship_tag": "ABX9TyP4LiY0QAoVENe7lXdrIAjB",
      "include_colab_link": true
    },
    "kernelspec": {
      "name": "python3",
      "display_name": "Python 3"
    },
    "language_info": {
      "name": "python"
    }
  },
  "cells": [
    {
      "cell_type": "markdown",
      "metadata": {
        "id": "view-in-github",
        "colab_type": "text"
      },
      "source": [
        "<a href=\"https://colab.research.google.com/github/Fondzenyuy/CSca20-Programming/blob/main/CSCA20_Lab_01.ipynb\" target=\"_parent\"><img src=\"https://colab.research.google.com/assets/colab-badge.svg\" alt=\"Open In Colab\"/></a>"
      ]
    },
    {
      "cell_type": "markdown",
      "metadata": {
        "id": "e3FFTvGm5vBx"
      },
      "source": [
        "# **LAB**"
      ]
    },
    {
      "cell_type": "code",
      "metadata": {
        "id": "FWt7F2In5uRV"
      },
      "source": [
        "#a = 0  #starting value for adjustment\n",
        "total_gap = 0\n",
        "rounds = int(input(\"Enter number of rounds : \"))\n",
        "while (rounds < 1 or rounds > 5) :\n",
        "  print('Please enter again: ')\n",
        "  rounds = int(input(\"Enter number of rounds : \"))\n",
        "\n",
        "for i in range(1, int(rounds) +1) :\n",
        "  print(\"\\nround #\" + str(i))\n",
        "  a = 1\n",
        "  target = int(input('input a target number : '))\n",
        "  find_number = int(input('add a number:'))\n",
        "  \n",
        "  while (target > find_number):\n",
        "    print(\"number is smaller than target\")\n",
        "    find_number = int(input('add a number:')) + find_number\n",
        "    a += 1      # adjustment\n",
        "    #total_adjustments , a_tot = total_adjustment + adjustments\n",
        "    #a_tot = a\n",
        "    total_gap = target - find_number\n",
        "    \n",
        "  while (target < find_number):\n",
        "    print(\"number is bigger than target\")\n",
        "    find_number = find_number - int(input('decrease number by:'))\n",
        "    a +=1\n",
        "  gap = target - find_number\n",
        "  total_gap = total_gap + target - find_number\n",
        "    \n",
        "  print(a)\n",
        "  print(gap)\n",
        "  \n",
        "  a_tot = a_tot + a\n",
        "  \n",
        "    \n",
        "#gap_tot = total_gap + (target - find_number)    \n",
        "print('Your total number of adjustments is : ' + str(a_tot))\n",
        "print('Your average gap is: ' + str(total_gap/rounds))\n",
        "print('Training Complete')\n",
        "\n",
        "    \n",
        "    "
      ],
      "execution_count": null,
      "outputs": []
    },
    {
      "cell_type": "code",
      "metadata": {
        "id": "g1JCce0Q5uTS"
      },
      "source": [
        ""
      ],
      "execution_count": null,
      "outputs": []
    },
    {
      "cell_type": "code",
      "metadata": {
        "id": "OrSnyeiH5uVT"
      },
      "source": [
        "\n",
        "\n"
      ],
      "execution_count": null,
      "outputs": []
    },
    {
      "cell_type": "code",
      "metadata": {
        "id": "SrIGEo3A5uXU"
      },
      "source": [
        ""
      ],
      "execution_count": null,
      "outputs": []
    },
    {
      "cell_type": "code",
      "metadata": {
        "id": "fedwCvOa5uZP"
      },
      "source": [
        ""
      ],
      "execution_count": null,
      "outputs": []
    },
    {
      "cell_type": "code",
      "metadata": {
        "id": "RD4FjaK15ubO"
      },
      "source": [
        ""
      ],
      "execution_count": null,
      "outputs": []
    }
  ]
}